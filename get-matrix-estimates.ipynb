{
 "cells": [
  {
   "cell_type": "code",
   "execution_count": 1,
   "id": "27dc9f30",
   "metadata": {},
   "outputs": [],
   "source": [
    "import numpy as np\n",
    "import matplotlib.pyplot as plt\n",
    "import os\n",
    "from shrinkage_estimators import precision_shrinkage\n",
    "\n",
    "%matplotlib inline"
   ]
  },
  {
   "cell_type": "code",
   "execution_count": 2,
   "id": "9e25118a",
   "metadata": {},
   "outputs": [],
   "source": [
    "DATA_PATH = \"data\"\n",
    "OUTPUT_PATH = \"output\"\n",
    "NSAMP = 21\n",
    "NDIM = 18"
   ]
  },
  {
   "cell_type": "code",
   "execution_count": 10,
   "id": "4e2f8165",
   "metadata": {},
   "outputs": [
    {
     "name": "stdout",
     "output_type": "stream",
     "text": [
      "Version 60 Smallest (most negative) eigenvalue: -1.6862876479279483e-06\n",
      "Version 41 Smallest (most negative) eigenvalue: -1.2948942587471765e-06\n",
      "Version 30 Smallest (most negative) eigenvalue: -1.5528540291226177e-06\n",
      "Version 18 Smallest (most negative) eigenvalue: -3.789234447426443e-06\n",
      "Version 77 Smallest (most negative) eigenvalue: -2.5566726062811484e-06\n",
      "Version 69 Smallest (most negative) eigenvalue: -6.612732959530321e-07\n",
      "Version 32 Smallest (most negative) eigenvalue: -1.348021252589167e-06\n",
      "Version 3 Smallest (most negative) eigenvalue: -9.282645742889132e-07\n",
      "Version 15 Smallest (most negative) eigenvalue: -1.148022259087586e-06\n",
      "Version 23 Smallest (most negative) eigenvalue: -3.117922381454224e-06\n",
      "Version 78 Smallest (most negative) eigenvalue: -2.866463118936177e-06\n",
      "Version 33 Smallest (most negative) eigenvalue: -1.692553942625742e-06\n",
      "Version 6 Smallest (most negative) eigenvalue: -1.0409046619155858e-06\n",
      "Version 13 Smallest (most negative) eigenvalue: -1.8582727354017447e-06\n",
      "Version 81 Smallest (most negative) eigenvalue: -1.398223233399655e-06\n",
      "Version 72 Smallest (most negative) eigenvalue: -9.465557453583374e-07\n"
     ]
    }
   ],
   "source": [
    "for P_fname in [f for f in os.listdir(DATA_PATH) if not f.startswith('.')]:\n",
    "    # Load mock power spectrum data\n",
    "    P = np.loadtxt(os.path.join(DATA_PATH, P_fname))\n",
    "    \n",
    "    # Target\n",
    "    target = np.identity(NDIM)\n",
    "    \n",
    "    # Sample covariance matrix\n",
    "    S = np.cov(P)\n",
    "    \n",
    "    # Shrinkage estimation of the precision matrix\n",
    "    Pi_shrinkage, alpha, beta = precision_shrinkage.shrinkage(P, target)\n",
    "    evals = np.linalg.eigvalsh(Pi_shrinkage)\n",
    "    print(\"Version\", v, \"Smallest (most negative) eigenvalue:\", np.min(evals))\n",
    "    \n",
    "    # Extract mock power spectrum version number from P_fname\n",
    "    v = int((P_fname.split(\".\")[0]).split(\"v\")[1])\n",
    "    \n",
    "    # Save precision shrinkage estimate to file\n",
    "    out_fname = f\"prec_shrinkage_{NDIM}_{NDIM}_v{v}.matrix\"\n",
    "    np.savetxt(os.path.join(OUTPUT_PATH, out_fname),\n",
    "               Pi_shrinkage,\n",
    "               header=f\"alpha={alpha}, beta={beta}\")"
   ]
  }
 ],
 "metadata": {
  "kernelspec": {
   "display_name": "Python 3 (ipykernel)",
   "language": "python",
   "name": "python3"
  },
  "language_info": {
   "codemirror_mode": {
    "name": "ipython",
    "version": 3
   },
   "file_extension": ".py",
   "mimetype": "text/x-python",
   "name": "python",
   "nbconvert_exporter": "python",
   "pygments_lexer": "ipython3",
   "version": "3.8.13"
  }
 },
 "nbformat": 4,
 "nbformat_minor": 5
}
